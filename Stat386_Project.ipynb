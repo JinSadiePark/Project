{
  "cells": [
    {
      "cell_type": "code",
      "execution_count": 1,
      "metadata": {
        "id": "FjIcRfAv6WdH"
      },
      "outputs": [],
      "source": [
        "import pandas as pd\n",
        "import requests\n",
        "pd.set_option(\"display.max_columns\", None)\n",
        "import time\n",
        "import numpy as np"
      ]
    },
    {
      "cell_type": "code",
      "execution_count": 2,
      "metadata": {
        "id": "DxOUKD1B6xt9"
      },
      "outputs": [],
      "source": [
        "test_url = 'https://stats.nba.com/stats/leagueLeaders?LeagueID=00&PerMode=Totals&Scope=S&Season=2021-22&SeasonType=Regular%20Season&StatCategory=PTS'"
      ]
    },
    {
      "cell_type": "code",
      "execution_count": 3,
      "metadata": {
        "id": "6E-WigpR6qGj"
      },
      "outputs": [],
      "source": [
        "r = requests.get(url = test_url).json()"
      ]
    },
    {
      "cell_type": "code",
      "execution_count": 4,
      "metadata": {
        "id": "HNglRKER7DOs"
      },
      "outputs": [],
      "source": [
        "table_headers = r['resultSet']['headers']"
      ]
    },
    {
      "cell_type": "code",
      "execution_count": 5,
      "metadata": {
        "id": "1sOW8-vi7FD9"
      },
      "outputs": [],
      "source": [
        "df1 = pd.DataFrame(r['resultSet']['rowSet'], columns= table_headers)\n",
        "df2 = pd.DataFrame({'Year' : ['2021-22' for i in range(len(df1))],\n",
        "                    'Season' : ['Regular%20Season' for i in range(len(df1))]})\n",
        "df3 = pd.concat([df2, df1], axis = 1)"
      ]
    },
    {
      "cell_type": "code",
      "execution_count": 6,
      "metadata": {
        "id": "VZJ6tOVcZ4Mx"
      },
      "outputs": [],
      "source": [
        "del df1, df2, df3"
      ]
    },
    {
      "cell_type": "code",
      "execution_count": 7,
      "metadata": {
        "id": "4wHjKqecaLVC"
      },
      "outputs": [],
      "source": [
        "df_col = ['Year', 'Season_type'] + table_headers"
      ]
    },
    {
      "cell_type": "code",
      "execution_count": 8,
      "metadata": {
        "id": "wdfCyrQhb6Iw"
      },
      "outputs": [],
      "source": [
        "headers = {\n",
        "    'Accept': '*/*',\n",
        "    'Accept-Encoding': 'gzip, deflate, br',\n",
        "    'Accept-Language': 'en-US,en;q=0.9,ko;q=0.8',\n",
        "    'Connection': 'keep-alive',\n",
        "    'Host': 'stats.nba.com',\n",
        "    'Origin': 'https://www.nba.com',\n",
        "    'Referer': 'https://www.nba.com/',\n",
        "    'Sec-Ch-Ua': '\"Google Chrome\";v=\"117\", \"Not;A=Brand\";v=\"8\", \"Chromium\";v=\"117\"',\n",
        "    'Sec-Ch-Ua-Mobile': '?0',\n",
        "    'Sec-Ch-Ua-Platform': '\"macOS\"',\n",
        "    'Sec-Fetch-Dest': 'empty',\n",
        "    'Sec-Fetch-Mode': 'cors',\n",
        "    'Sec-Fetch-Site': 'same-site',\n",
        "    'User-Agent': 'Mozilla/5.0 (Macintosh; Intel Mac OS X 10_15_7) AppleWebKit/537.36 (KHTML, like Gecko) Chrome/117.0.0.0 Safari/537.36'\n",
        "}"
      ]
    },
    {
      "cell_type": "code",
      "execution_count": 9,
      "metadata": {
        "colab": {
          "base_uri": "https://localhost:8080/",
          "height": 73
        },
        "id": "AR_2zaVIaNCP",
        "outputId": "4af78b74-c1ae-453f-b177-1538c1442607"
      },
      "outputs": [
        {
          "data": {
            "text/html": [
              "<div>\n",
              "<style scoped>\n",
              "    .dataframe tbody tr th:only-of-type {\n",
              "        vertical-align: middle;\n",
              "    }\n",
              "\n",
              "    .dataframe tbody tr th {\n",
              "        vertical-align: top;\n",
              "    }\n",
              "\n",
              "    .dataframe thead th {\n",
              "        text-align: right;\n",
              "    }\n",
              "</style>\n",
              "<table border=\"1\" class=\"dataframe\">\n",
              "  <thead>\n",
              "    <tr style=\"text-align: right;\">\n",
              "      <th></th>\n",
              "      <th>Year</th>\n",
              "      <th>Season_type</th>\n",
              "      <th>PLAYER_ID</th>\n",
              "      <th>RANK</th>\n",
              "      <th>PLAYER</th>\n",
              "      <th>TEAM_ID</th>\n",
              "      <th>TEAM</th>\n",
              "      <th>GP</th>\n",
              "      <th>MIN</th>\n",
              "      <th>FGM</th>\n",
              "      <th>FGA</th>\n",
              "      <th>FG_PCT</th>\n",
              "      <th>FG3M</th>\n",
              "      <th>FG3A</th>\n",
              "      <th>FG3_PCT</th>\n",
              "      <th>FTM</th>\n",
              "      <th>FTA</th>\n",
              "      <th>FT_PCT</th>\n",
              "      <th>OREB</th>\n",
              "      <th>DREB</th>\n",
              "      <th>REB</th>\n",
              "      <th>AST</th>\n",
              "      <th>STL</th>\n",
              "      <th>BLK</th>\n",
              "      <th>TOV</th>\n",
              "      <th>PF</th>\n",
              "      <th>PTS</th>\n",
              "      <th>EFF</th>\n",
              "      <th>AST_TOV</th>\n",
              "      <th>STL_TOV</th>\n",
              "    </tr>\n",
              "  </thead>\n",
              "  <tbody>\n",
              "  </tbody>\n",
              "</table>\n",
              "</div>"
            ],
            "text/plain": [
              "Empty DataFrame\n",
              "Columns: [Year, Season_type, PLAYER_ID, RANK, PLAYER, TEAM_ID, TEAM, GP, MIN, FGM, FGA, FG_PCT, FG3M, FG3A, FG3_PCT, FTM, FTA, FT_PCT, OREB, DREB, REB, AST, STL, BLK, TOV, PF, PTS, EFF, AST_TOV, STL_TOV]\n",
              "Index: []"
            ]
          },
          "execution_count": 9,
          "metadata": {},
          "output_type": "execute_result"
        }
      ],
      "source": [
        "pd.DataFrame(columns=df_col)"
      ]
    },
    {
      "cell_type": "code",
      "execution_count": 10,
      "metadata": {
        "id": "v2Ij_lvAaYxG"
      },
      "outputs": [],
      "source": [
        "df = pd.DataFrame(columns = df_col)\n",
        "season_types = ['Regular%20Season', 'Playoffs']\n",
        "years = ['2021-22', '2022-23', '2023-24']\n",
        "\n",
        "for y in years:\n",
        "  for s in season_types:\n",
        "    api_url = 'https://stats.nba.com/stats/leagueLeaders?LeagueID=00&PerMode=Totals&Scope=S&Season='+y+'&SeasonType='+s+'&StatCategory=PTS'\n",
        "    r = requests.get(url = api_url, headers = headers).json()\n",
        "    df1 = pd.DataFrame(r['resultSet']['rowSet'], columns= table_headers)\n",
        "    df2 = pd.DataFrame({'Year' : [y for i in range(len(df1))],\n",
        "                        'Season_type' : [s for i in range(len(df1))]})\n",
        "    df3 = pd.concat([df2, df1], axis = 1)\n",
        "    df = pd.concat([df, df3], axis = 0)\n",
        "\n",
        "    lag = np.random.uniform(low = 5, high = 40)\n",
        "    time.sleep(lag)\n",
        "\n",
        "df.to_csv('nba_player_data.csv', index = False)"
      ]
    },
    {
      "cell_type": "code",
      "execution_count": null,
      "metadata": {},
      "outputs": [],
      "source": []
    }
  ],
  "metadata": {
    "colab": {
      "provenance": []
    },
    "kernelspec": {
      "display_name": "Python 3",
      "name": "python3"
    },
    "language_info": {
      "codemirror_mode": {
        "name": "ipython",
        "version": 3
      },
      "file_extension": ".py",
      "mimetype": "text/x-python",
      "name": "python",
      "nbconvert_exporter": "python",
      "pygments_lexer": "ipython3",
      "version": "3.10.12"
    }
  },
  "nbformat": 4,
  "nbformat_minor": 0
}
